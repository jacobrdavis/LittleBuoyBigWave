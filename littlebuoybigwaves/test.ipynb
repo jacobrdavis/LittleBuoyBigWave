{
 "cells": [
  {
   "cell_type": "code",
   "execution_count": 1,
   "metadata": {},
   "outputs": [],
   "source": [
    "import pickle\n",
    "\n",
    "import pandas as pd\n",
    "from littlebuoybigwaves import waves, models, geo\n",
    "import littlebuoybigwaves"
   ]
  },
  {
   "cell_type": "code",
   "execution_count": 2,
   "metadata": {},
   "outputs": [],
   "source": [
    "DRIFTER_DATA_PATH = \"/Users/jacob/Dropbox/Projects/NHCI/data/Hurricane_Idalia_Sep2023/aggregated_data/hurricane_idalia_drifter_data_v2.pickle\"\n",
    "\n",
    "with open(DRIFTER_DATA_PATH, 'rb') as handle:\n",
    "    drifter_data = pickle.load(handle)\n",
    "\n",
    "drifter_df = (\n",
    "    pd.concat(drifter_data['spotter'], names=['id', 'time'])\n",
    "    .dropna(subset='energy_density')\n",
    ")"
   ]
  },
  {
   "cell_type": "code",
   "execution_count": 3,
   "metadata": {},
   "outputs": [
    {
     "data": {
      "text/plain": [
       "namespace(time='time', id='id')"
      ]
     },
     "execution_count": 3,
     "metadata": {},
     "output_type": "execute_result"
    }
   ],
   "source": [
    "drifter_df.buoy.idxs"
   ]
  },
  {
   "cell_type": "code",
   "execution_count": 7,
   "metadata": {},
   "outputs": [],
   "source": [
    "import types\n",
    "\n",
    "cols = littlebuoybigwaves.get_config()['cols']\n",
    "\n",
    "ns = types.SimpleNamespace(**cols)"
   ]
  },
  {
   "cell_type": "code",
   "execution_count": 8,
   "metadata": {},
   "outputs": [
    {
     "data": {
      "text/plain": [
       "namespace(longitude='longitude',\n",
       "          latitude='latitude',\n",
       "          significant_height='significant_height',\n",
       "          peak_period='peak_period',\n",
       "          peak_direction='peak_direction',\n",
       "          peak_directional_spread='peak_directional_spread',\n",
       "          mean_period='mean_period',\n",
       "          mean_direction='mean_direction',\n",
       "          mean_directional_spread='mean_directional_spread',\n",
       "          energy_density='energy_density',\n",
       "          frequency='frequency',\n",
       "          a1='a1',\n",
       "          b1='b1',\n",
       "          a2='a2',\n",
       "          b2='b2',\n",
       "          direction='direction',\n",
       "          directional_spread='directional_spread',\n",
       "          mean_square_slope='mean_square_slope',\n",
       "          wave_check_factor='wave_check_factor',\n",
       "          wavenumber='wavenumber',\n",
       "          depth='depth',\n",
       "          drift_speed='drift_speed',\n",
       "          drift_direction='drift_direction',\n",
       "          absolute_frequency='absolute_frequency',\n",
       "          u_dot_k='u_dot_k',\n",
       "          wave_drift_alignment='wave_drift_alignment')"
      ]
     },
     "execution_count": 8,
     "metadata": {},
     "output_type": "execute_result"
    }
   ],
   "source": [
    "ns"
   ]
  },
  {
   "cell_type": "code",
   "execution_count": 9,
   "metadata": {},
   "outputs": [
    {
     "data": {
      "text/plain": [
       "namespace(time='time',\n",
       "          longitude='longitude',\n",
       "          latitude='latitude',\n",
       "          significant_height='significant_height',\n",
       "          peak_period='peak_period',\n",
       "          peak_direction='peak_direction',\n",
       "          peak_directional_spread='peak_directional_spread',\n",
       "          mean_period='mean_period',\n",
       "          mean_direction='mean_direction',\n",
       "          mean_directional_spread='mean_directional_spread',\n",
       "          energy_density='energy_density',\n",
       "          frequency='frequency',\n",
       "          a1='a1',\n",
       "          b1='b1',\n",
       "          a2='a2',\n",
       "          b2='b2',\n",
       "          direction='direction',\n",
       "          directional_spread='directional_spread',\n",
       "          mean_square_slope='mean_square_slope',\n",
       "          wave_check_factor='wave_check_factor',\n",
       "          wavenumber='wavenumber',\n",
       "          depth='depth',\n",
       "          drift_speed='drift_speed',\n",
       "          drift_direction='drift_direction',\n",
       "          absolute_frequency='absolute_frequency',\n",
       "          u_dot_k='u_dot_k',\n",
       "          wave_drift_alignment='wave_drift_alignment')"
      ]
     },
     "execution_count": 9,
     "metadata": {},
     "output_type": "execute_result"
    }
   ],
   "source": [
    "drifter_df.buoy.cols"
   ]
  }
 ],
 "metadata": {
  "kernelspec": {
   "display_name": "NHCI_geo_python3-9",
   "language": "python",
   "name": "python3"
  },
  "language_info": {
   "codemirror_mode": {
    "name": "ipython",
    "version": 3
   },
   "file_extension": ".py",
   "mimetype": "text/x-python",
   "name": "python",
   "nbconvert_exporter": "python",
   "pygments_lexer": "ipython3",
   "version": "3.9.16"
  }
 },
 "nbformat": 4,
 "nbformat_minor": 2
}
